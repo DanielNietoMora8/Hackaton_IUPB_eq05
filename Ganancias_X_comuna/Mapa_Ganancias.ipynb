{
 "cells": [
  {
   "cell_type": "code",
   "execution_count": 191,
   "metadata": {},
   "outputs": [],
   "source": [
    "import pandas as pd\n",
    "import seaborn as sns\n",
    "import matplotlib.pyplot as plt\n",
    "import folium\n",
    "import branca.colormap as cm\n",
    "from sklearn.preprocessing import MinMaxScaler"
   ]
  },
  {
   "cell_type": "code",
   "execution_count": 192,
   "metadata": {},
   "outputs": [],
   "source": [
    "df_ingr = pd.read_csv(\"./17_20_ingresos_familias.csv\")\n",
    "df_cords = pd.read_csv(\"./comunas_cords.csv\")"
   ]
  },
  {
   "cell_type": "code",
   "execution_count": 193,
   "metadata": {},
   "outputs": [],
   "source": [
    "df_ingr.columns = ['Unnamed: 0', 'Comuna', 'id_comuna', 'annio', '0-500000',\n",
    "       '500001-1000000', '1000001-1500000', '1500001-2000000',\n",
    "       '2000001-2500000', '2500001-3000000', '3000001-3500000',\n",
    "       '3500001-4000000', '4000001-4500000', '4500001-5000000',\n",
    "       'Mayor o igual a 5000001']\n",
    "df_cords.columns = ['Unnamed: 0', 'id_comuna', 'Latitud', 'Longitud']"
   ]
  },
  {
   "cell_type": "code",
   "execution_count": 194,
   "metadata": {},
   "outputs": [],
   "source": [
    "df_ingr = df_ingr.merge(df_cords[['id_comuna', 'Latitud', 'Longitud']], on='id_comuna', how='left')"
   ]
  },
  {
   "cell_type": "code",
   "execution_count": 195,
   "metadata": {},
   "outputs": [],
   "source": [
    "df_ingr_17 = df_ingr.loc[df_ingr[\"annio\"] == 2017]"
   ]
  },
  {
   "cell_type": "code",
   "execution_count": 196,
   "metadata": {},
   "outputs": [
    {
     "name": "stderr",
     "output_type": "stream",
     "text": [
      "C:\\Users\\Sayan\\AppData\\Local\\Temp\\ipykernel_19632\\2987667479.py:9: SettingWithCopyWarning: \n",
      "A value is trying to be set on a copy of a slice from a DataFrame.\n",
      "Try using .loc[row_indexer,col_indexer] = value instead\n",
      "\n",
      "See the caveats in the documentation: https://pandas.pydata.org/pandas-docs/stable/user_guide/indexing.html#returning-a-view-versus-a-copy\n",
      "  df_ingr_17[\"Latitud\"] = df_ingr_17[\"Latitud\"].apply(conv_lat)\n",
      "C:\\Users\\Sayan\\AppData\\Local\\Temp\\ipykernel_19632\\2987667479.py:10: SettingWithCopyWarning: \n",
      "A value is trying to be set on a copy of a slice from a DataFrame.\n",
      "Try using .loc[row_indexer,col_indexer] = value instead\n",
      "\n",
      "See the caveats in the documentation: https://pandas.pydata.org/pandas-docs/stable/user_guide/indexing.html#returning-a-view-versus-a-copy\n",
      "  df_ingr_17[\"Longitud\"] = df_ingr_17[\"Longitud\"].apply(conv_lat1)\n"
     ]
    }
   ],
   "source": [
    "def conv_lat(char):\n",
    "    char = char.replace(\".\",\"\")\n",
    "    return float(char[:1] +\".\"+char[1:])\n",
    "\n",
    "def conv_lat1(char):\n",
    "    char = char.replace(\".\",\"\")\n",
    "    return float(char[:3] +\".\"+char[3:])\n",
    "\n",
    "df_ingr_17[\"Latitud\"] = df_ingr_17[\"Latitud\"].apply(conv_lat)\n",
    "df_ingr_17[\"Longitud\"] = df_ingr_17[\"Longitud\"].apply(conv_lat1)"
   ]
  },
  {
   "cell_type": "code",
   "execution_count": 197,
   "metadata": {},
   "outputs": [],
   "source": [
    "df_ingr_17 = df_ingr_17.reset_index()\n",
    "df_ingr_17 = df_ingr_17.drop(\"Unnamed: 0\", axis= 1)\n",
    "df_ingr_17 = df_ingr_17.drop(\"index\", axis= 1)"
   ]
  },
  {
   "cell_type": "code",
   "execution_count": 198,
   "metadata": {},
   "outputs": [
    {
     "data": {
      "text/html": [
       "<div style=\"width:100%;\"><div style=\"position:relative;width:100%;height:0;padding-bottom:60%;\"><span style=\"color:#565656\">Make this Notebook Trusted to load map: File -> Trust Notebook</span><iframe srcdoc=\"&lt;!DOCTYPE html&gt;\n",
       "&lt;html&gt;\n",
       "&lt;head&gt;\n",
       "    \n",
       "    &lt;meta http-equiv=&quot;content-type&quot; content=&quot;text/html; charset=UTF-8&quot; /&gt;\n",
       "    \n",
       "        &lt;script&gt;\n",
       "            L_NO_TOUCH = false;\n",
       "            L_DISABLE_3D = false;\n",
       "        &lt;/script&gt;\n",
       "    \n",
       "    &lt;style&gt;html, body {width: 100%;height: 100%;margin: 0;padding: 0;}&lt;/style&gt;\n",
       "    &lt;style&gt;#map {position:absolute;top:0;bottom:0;right:0;left:0;}&lt;/style&gt;\n",
       "    &lt;script src=&quot;https://cdn.jsdelivr.net/npm/leaflet@1.9.3/dist/leaflet.js&quot;&gt;&lt;/script&gt;\n",
       "    &lt;script src=&quot;https://code.jquery.com/jquery-1.12.4.min.js&quot;&gt;&lt;/script&gt;\n",
       "    &lt;script src=&quot;https://cdn.jsdelivr.net/npm/bootstrap@5.2.2/dist/js/bootstrap.bundle.min.js&quot;&gt;&lt;/script&gt;\n",
       "    &lt;script src=&quot;https://cdnjs.cloudflare.com/ajax/libs/Leaflet.awesome-markers/2.0.2/leaflet.awesome-markers.js&quot;&gt;&lt;/script&gt;\n",
       "    &lt;link rel=&quot;stylesheet&quot; href=&quot;https://cdn.jsdelivr.net/npm/leaflet@1.9.3/dist/leaflet.css&quot;/&gt;\n",
       "    &lt;link rel=&quot;stylesheet&quot; href=&quot;https://cdn.jsdelivr.net/npm/bootstrap@5.2.2/dist/css/bootstrap.min.css&quot;/&gt;\n",
       "    &lt;link rel=&quot;stylesheet&quot; href=&quot;https://netdna.bootstrapcdn.com/bootstrap/3.0.0/css/bootstrap.min.css&quot;/&gt;\n",
       "    &lt;link rel=&quot;stylesheet&quot; href=&quot;https://cdn.jsdelivr.net/npm/@fortawesome/fontawesome-free@6.2.0/css/all.min.css&quot;/&gt;\n",
       "    &lt;link rel=&quot;stylesheet&quot; href=&quot;https://cdnjs.cloudflare.com/ajax/libs/Leaflet.awesome-markers/2.0.2/leaflet.awesome-markers.css&quot;/&gt;\n",
       "    &lt;link rel=&quot;stylesheet&quot; href=&quot;https://cdn.jsdelivr.net/gh/python-visualization/folium/folium/templates/leaflet.awesome.rotate.min.css&quot;/&gt;\n",
       "    \n",
       "            &lt;meta name=&quot;viewport&quot; content=&quot;width=device-width,\n",
       "                initial-scale=1.0, maximum-scale=1.0, user-scalable=no&quot; /&gt;\n",
       "            &lt;style&gt;\n",
       "                #map_a9b44ebcc20f64e0f2d8f3573cb3e06d {\n",
       "                    position: relative;\n",
       "                    width: 100.0%;\n",
       "                    height: 100.0%;\n",
       "                    left: 0.0%;\n",
       "                    top: 0.0%;\n",
       "                }\n",
       "                .leaflet-container { font-size: 1rem; }\n",
       "            &lt;/style&gt;\n",
       "        \n",
       "    &lt;script src=&quot;https://cdn.jsdelivr.net/gh/python-visualization/folium@main/folium/templates/leaflet_heat.min.js&quot;&gt;&lt;/script&gt;\n",
       "&lt;/head&gt;\n",
       "&lt;body&gt;\n",
       "    \n",
       "    \n",
       "            &lt;div class=&quot;folium-map&quot; id=&quot;map_a9b44ebcc20f64e0f2d8f3573cb3e06d&quot; &gt;&lt;/div&gt;\n",
       "        \n",
       "&lt;/body&gt;\n",
       "&lt;script&gt;\n",
       "    \n",
       "    \n",
       "            var map_a9b44ebcc20f64e0f2d8f3573cb3e06d = L.map(\n",
       "                &quot;map_a9b44ebcc20f64e0f2d8f3573cb3e06d&quot;,\n",
       "                {\n",
       "                    center: [6.2442, -75.5812],\n",
       "                    crs: L.CRS.EPSG3857,\n",
       "                    zoom: 12,\n",
       "                    zoomControl: true,\n",
       "                    preferCanvas: false,\n",
       "                }\n",
       "            );\n",
       "\n",
       "            \n",
       "\n",
       "        \n",
       "    \n",
       "            var tile_layer_06e753cd9c56108f9bf79a8c374ab1bd = L.tileLayer(\n",
       "                &quot;https://{s}.tile.openstreetmap.org/{z}/{x}/{y}.png&quot;,\n",
       "                {&quot;attribution&quot;: &quot;Data by \\u0026copy; \\u003ca target=\\&quot;_blank\\&quot; href=\\&quot;http://openstreetmap.org\\&quot;\\u003eOpenStreetMap\\u003c/a\\u003e, under \\u003ca target=\\&quot;_blank\\&quot; href=\\&quot;http://www.openstreetmap.org/copyright\\&quot;\\u003eODbL\\u003c/a\\u003e.&quot;, &quot;detectRetina&quot;: false, &quot;maxNativeZoom&quot;: 18, &quot;maxZoom&quot;: 18, &quot;minZoom&quot;: 0, &quot;noWrap&quot;: false, &quot;opacity&quot;: 1, &quot;subdomains&quot;: &quot;abc&quot;, &quot;tms&quot;: false}\n",
       "            ).addTo(map_a9b44ebcc20f64e0f2d8f3573cb3e06d);\n",
       "        \n",
       "    \n",
       "            var heat_map_a27d9bee75e5382f45125b91bc9274ea = L.heatLayer(\n",
       "                [[6.2274461, -75.6354553, 160.0], [6.2777235, -75.5625988, 690.0], [6.2258758, -75.6004937, 491.0], [6.2307786, -75.5565935, 531.0], [6.2936989, -75.5682636, 480.0], [6.297565, -75.5775562, 783.0], [6.2010917, -75.5656654, 30.0], [6.2175494, -75.5848914, 182.0], [6.2507013, -75.6079043, 156.0], [6.2501021, -75.5679154, 411.0], [6.2492382, -75.5886543, 88.0], [6.2750611, -75.545892, 941.0], [6.2933437, -75.5448249, 884.0], [6.2790741, -75.5887669, 885.0], [6.2211207, -75.6772451, 538.0], [6.2782896, -75.6374854, 744.0], [6.2562742, -75.6215434, 865.0], [6.31755735, -75.6915714, 21.0], [6.2969558, -75.5548517, 594.0], [6.20994085, -75.4981431, 84.0], [6.2585331, -75.5512674, 880.0]],\n",
       "                {&quot;blur&quot;: 15, &quot;maxZoom&quot;: 18, &quot;minOpacity&quot;: 0.5, &quot;radius&quot;: 35}\n",
       "            ).addTo(map_a9b44ebcc20f64e0f2d8f3573cb3e06d);\n",
       "        \n",
       "&lt;/script&gt;\n",
       "&lt;/html&gt;\" style=\"position:absolute;width:100%;height:100%;left:0;top:0;border:none !important;\" allowfullscreen webkitallowfullscreen mozallowfullscreen></iframe></div></div>"
      ],
      "text/plain": [
       "<folium.folium.Map at 0x2b9a1b134f0>"
      ]
     },
     "execution_count": 198,
     "metadata": {},
     "output_type": "execute_result"
    }
   ],
   "source": [
    "from folium.plugins import HeatMapWithTime, HeatMap\n",
    "\n",
    "mapa = folium.Map(location=[6.2442, -75.5812], zoom_start=12)\n",
    "\n",
    "puntos = df_ingr_17[['Latitud', 'Longitud', \"0-500000\"]].values.tolist()\n",
    "valores = df_ingr_17[\"0-500000\"].tolist()\n",
    "HeatMap(puntos, radius=35, ).add_to(mapa)\n",
    "#HeatMapWithTime(puntos, radius=35).add_to(mapa)\n",
    "mapa"
   ]
  },
  {
   "cell_type": "code",
   "execution_count": 199,
   "metadata": {},
   "outputs": [],
   "source": [
    "colums = ['0-500000', '500001-1000000',\n",
    "       '1000001-1500000', '1500001-2000000', '2000001-2500000',\n",
    "       '2500001-3000000', '3000001-3500000', '3500001-4000000',\n",
    "       '4000001-4500000', '4500001-5000000', 'Mayor o igual a 5000001']\n",
    "promd = [250000, 750000, 1250000, 1750000, 2250000, 2750000, 3250000, 3750000, 4250000, 4750000, 5250000]\n",
    "def aplicar_promd(row):\n",
    "    mult = row[colums] * promd \n",
    "    mult_sum = mult.sum()\n",
    "    total = row[colums].sum()\n",
    "    return mult_sum / total\n",
    "\n",
    "df_ingr_17[\"Promedio ganancias\"] = df_ingr_17.apply(aplicar_promd, axis=1)"
   ]
  },
  {
   "cell_type": "code",
   "execution_count": 201,
   "metadata": {},
   "outputs": [
    {
     "data": {
      "text/html": [
       "<div style=\"width:100%;\"><div style=\"position:relative;width:100%;height:0;padding-bottom:60%;\"><span style=\"color:#565656\">Make this Notebook Trusted to load map: File -> Trust Notebook</span><iframe srcdoc=\"&lt;!DOCTYPE html&gt;\n",
       "&lt;html&gt;\n",
       "&lt;head&gt;\n",
       "    \n",
       "    &lt;meta http-equiv=&quot;content-type&quot; content=&quot;text/html; charset=UTF-8&quot; /&gt;\n",
       "    \n",
       "        &lt;script&gt;\n",
       "            L_NO_TOUCH = false;\n",
       "            L_DISABLE_3D = false;\n",
       "        &lt;/script&gt;\n",
       "    \n",
       "    &lt;style&gt;html, body {width: 100%;height: 100%;margin: 0;padding: 0;}&lt;/style&gt;\n",
       "    &lt;style&gt;#map {position:absolute;top:0;bottom:0;right:0;left:0;}&lt;/style&gt;\n",
       "    &lt;script src=&quot;https://cdn.jsdelivr.net/npm/leaflet@1.9.3/dist/leaflet.js&quot;&gt;&lt;/script&gt;\n",
       "    &lt;script src=&quot;https://code.jquery.com/jquery-1.12.4.min.js&quot;&gt;&lt;/script&gt;\n",
       "    &lt;script src=&quot;https://cdn.jsdelivr.net/npm/bootstrap@5.2.2/dist/js/bootstrap.bundle.min.js&quot;&gt;&lt;/script&gt;\n",
       "    &lt;script src=&quot;https://cdnjs.cloudflare.com/ajax/libs/Leaflet.awesome-markers/2.0.2/leaflet.awesome-markers.js&quot;&gt;&lt;/script&gt;\n",
       "    &lt;link rel=&quot;stylesheet&quot; href=&quot;https://cdn.jsdelivr.net/npm/leaflet@1.9.3/dist/leaflet.css&quot;/&gt;\n",
       "    &lt;link rel=&quot;stylesheet&quot; href=&quot;https://cdn.jsdelivr.net/npm/bootstrap@5.2.2/dist/css/bootstrap.min.css&quot;/&gt;\n",
       "    &lt;link rel=&quot;stylesheet&quot; href=&quot;https://netdna.bootstrapcdn.com/bootstrap/3.0.0/css/bootstrap.min.css&quot;/&gt;\n",
       "    &lt;link rel=&quot;stylesheet&quot; href=&quot;https://cdn.jsdelivr.net/npm/@fortawesome/fontawesome-free@6.2.0/css/all.min.css&quot;/&gt;\n",
       "    &lt;link rel=&quot;stylesheet&quot; href=&quot;https://cdnjs.cloudflare.com/ajax/libs/Leaflet.awesome-markers/2.0.2/leaflet.awesome-markers.css&quot;/&gt;\n",
       "    &lt;link rel=&quot;stylesheet&quot; href=&quot;https://cdn.jsdelivr.net/gh/python-visualization/folium/folium/templates/leaflet.awesome.rotate.min.css&quot;/&gt;\n",
       "    \n",
       "            &lt;meta name=&quot;viewport&quot; content=&quot;width=device-width,\n",
       "                initial-scale=1.0, maximum-scale=1.0, user-scalable=no&quot; /&gt;\n",
       "            &lt;style&gt;\n",
       "                #map_e30c440f46cee420885cbe3519e94998 {\n",
       "                    position: relative;\n",
       "                    width: 100.0%;\n",
       "                    height: 100.0%;\n",
       "                    left: 0.0%;\n",
       "                    top: 0.0%;\n",
       "                }\n",
       "                .leaflet-container { font-size: 1rem; }\n",
       "            &lt;/style&gt;\n",
       "        \n",
       "    &lt;script src=&quot;https://cdn.jsdelivr.net/gh/python-visualization/folium@main/folium/templates/leaflet_heat.min.js&quot;&gt;&lt;/script&gt;\n",
       "&lt;/head&gt;\n",
       "&lt;body&gt;\n",
       "    \n",
       "    \n",
       "            &lt;div class=&quot;folium-map&quot; id=&quot;map_e30c440f46cee420885cbe3519e94998&quot; &gt;&lt;/div&gt;\n",
       "        \n",
       "&lt;/body&gt;\n",
       "&lt;script&gt;\n",
       "    \n",
       "    \n",
       "            var map_e30c440f46cee420885cbe3519e94998 = L.map(\n",
       "                &quot;map_e30c440f46cee420885cbe3519e94998&quot;,\n",
       "                {\n",
       "                    center: [6.2442, -75.5812],\n",
       "                    crs: L.CRS.EPSG3857,\n",
       "                    zoom: 12,\n",
       "                    zoomControl: true,\n",
       "                    preferCanvas: false,\n",
       "                }\n",
       "            );\n",
       "\n",
       "            \n",
       "\n",
       "        \n",
       "    \n",
       "            var tile_layer_4a3c51efbbe15b5be2378136d805dbf6 = L.tileLayer(\n",
       "                &quot;https://{s}.tile.openstreetmap.org/{z}/{x}/{y}.png&quot;,\n",
       "                {&quot;attribution&quot;: &quot;Data by \\u0026copy; \\u003ca target=\\&quot;_blank\\&quot; href=\\&quot;http://openstreetmap.org\\&quot;\\u003eOpenStreetMap\\u003c/a\\u003e, under \\u003ca target=\\&quot;_blank\\&quot; href=\\&quot;http://www.openstreetmap.org/copyright\\&quot;\\u003eODbL\\u003c/a\\u003e.&quot;, &quot;detectRetina&quot;: false, &quot;maxNativeZoom&quot;: 18, &quot;maxZoom&quot;: 18, &quot;minZoom&quot;: 0, &quot;noWrap&quot;: false, &quot;opacity&quot;: 1, &quot;subdomains&quot;: &quot;abc&quot;, &quot;tms&quot;: false}\n",
       "            ).addTo(map_e30c440f46cee420885cbe3519e94998);\n",
       "        \n",
       "    \n",
       "            var heat_map_17aba35c7e7946fd0ad20f3749eb7cc1 = L.heatLayer(\n",
       "                [[6.2274461, -75.6354553, 618497.1098265896], [6.2777235, -75.5625988, 754512.1263395376], [6.2258758, -75.6004937, 997478.1439139206], [6.2307786, -75.5565935, 877997.4076474401], [6.2936989, -75.5682636, 845874.7135217723], [6.297565, -75.5775562, 734470.4684317718], [6.2010917, -75.5656654, 1692528.735632184], [6.2175494, -75.5848914, 893884.8920863309], [6.2507013, -75.6079043, 1253752.34521576], [6.2501021, -75.5679154, 709577.1144278607], [6.2492382, -75.5886543, 1483433.7349397591], [6.2750611, -75.545892, 717538.1263616558], [6.2933437, -75.5448249, 640825.2178370067], [6.2790741, -75.5887669, 808537.6162299239], [6.2211207, -75.6772451, 786369.8164513936], [6.2782896, -75.6374854, 605202.1206096753], [6.2562742, -75.6215434, 759251.101321586], [6.31755735, -75.6915714, 500000.0], [6.2969558, -75.5548517, 686496.8597348221], [6.20994085, -75.4981431, 664772.7272727273], [6.2585331, -75.5512674, 668953.9098912481]],\n",
       "                {&quot;blur&quot;: 15, &quot;maxZoom&quot;: 18, &quot;minOpacity&quot;: 0.5, &quot;radius&quot;: 35}\n",
       "            ).addTo(map_e30c440f46cee420885cbe3519e94998);\n",
       "        \n",
       "&lt;/script&gt;\n",
       "&lt;/html&gt;\" style=\"position:absolute;width:100%;height:100%;left:0;top:0;border:none !important;\" allowfullscreen webkitallowfullscreen mozallowfullscreen></iframe></div></div>"
      ],
      "text/plain": [
       "<folium.folium.Map at 0x2b9a1632440>"
      ]
     },
     "execution_count": 201,
     "metadata": {},
     "output_type": "execute_result"
    }
   ],
   "source": [
    "mapa = folium.Map(location=[6.2442, -75.5812], zoom_start=12)\n",
    "mapa\n",
    "puntos = df_ingr_17[['Latitud', 'Longitud', \"Promedio ganancias\"]].values.tolist()\n",
    "HeatMap(puntos, radius=35).add_to(mapa)\n",
    "mapa"
   ]
  },
  {
   "cell_type": "code",
   "execution_count": 209,
   "metadata": {},
   "outputs": [
    {
     "data": {
      "image/png": "[encoded data removed]",
      "text/plain": [
       "<Figure size 200x600 with 2 Axes>"
      ]
     },
     "metadata": {},
     "output_type": "display_data"
    }
   ],
   "source": [
    "import matplotlib.pyplot as plt\n",
    "import numpy as np\n",
    "import matplotlib.colors as mcolors\n",
    "import matplotlib.ticker as ticker\n",
    "\n",
    "data = np.random.randint(500000, 1700000, (10, 10))\n",
    "\n",
    "fig, ax = plt.subplots(figsize=(2, 6))  # Ajusta el tamaño según tus preferencias\n",
    "\n",
    "colors = ['#06EEEF', '#FFFB15', '#EE2B0A']\n",
    "cmap = mcolors.LinearSegmentedColormap.from_list('custom', colors, N=256)\n",
    "\n",
    "cax = ax.matshow(data, cmap=cmap)\n",
    "\n",
    "ax.axis('off')\n",
    "\n",
    "cbar = fig.colorbar(cax)\n",
    "\n",
    "cbar.formatter = ticker.FuncFormatter(lambda x, pos: f'{int(x):,}')\n",
    "cbar.update_ticks()\n",
    "\n",
    "plt.show()\n"
   ]
  }
 ],
 "metadata": {
  "kernelspec": {
   "display_name": "Python 3",
   "language": "python",
   "name": "python3"
  },
  "language_info": {
   "codemirror_mode": {
    "name": "ipython",
    "version": 3
   },
   "file_extension": ".py",
   "mimetype": "text/x-python",
   "name": "python",
   "nbconvert_exporter": "python",
   "pygments_lexer": "ipython3",
   "version": "3.10.6"
  },
  "orig_nbformat": 4
 },
 "nbformat": 4,
 "nbformat_minor": 2
}
