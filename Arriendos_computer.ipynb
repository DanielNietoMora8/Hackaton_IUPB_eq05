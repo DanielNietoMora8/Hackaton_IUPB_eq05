{
  "nbformat": 4,
  "nbformat_minor": 0,
  "metadata": {
    "colab": {
      "provenance": []
    },
    "kernelspec": {
      "name": "python3",
      "display_name": "Python 3"
    },
    "language_info": {
      "name": "python"
    }
  },
  "cells": [
    {
      "cell_type": "code",
      "execution_count": 7,
      "metadata": {
        "id": "d-_U0QKUuy11"
      },
      "outputs": [],
      "source": [
        "import pandas as pd\n",
        "import numpy as np\n",
        "import seaborn as sns\n",
        "import matplotlib.pyplot as plt\n",
        "pd.options.display.float_format = '{:.2f}'.format\n",
        "pd.set_option('display.max_colwidth', None)"
      ]
    },
    {
      "cell_type": "code",
      "source": [
        "df1 = pd.read_csv('/content/drive/MyDrive/Hackaton/Apartamento_arriendo_09.csv', encoding='utf-8')\n",
        "df2 = pd.read_csv('/content/drive/MyDrive/Hackaton/Casa_arriendo_09.csv', encoding='utf-8')\n",
        "\n",
        "House_apart = pd.concat([df1, df2], axis=0, ignore_index=True)\n",
        "House_apart\n",
        "\n",
        "House_apart = House_apart[House_apart['mode'] != 'Venta y Arriendo']\n",
        "\n",
        "House_apart.drop(columns=['Unnamed: 0',\n",
        "                          'date',\n",
        "                          'id',\n",
        "                          'mode',\n",
        "                          #'details',\n",
        "                          'description',\n",
        "                          'surface',\n",
        "                          'rooms',\n",
        "                          'baths',\n",
        "                          'park'], inplace = True)\n",
        "\n",
        "House_apart['location'] = House_apart['location'].str.lower()\n",
        "\n",
        "a,b = 'áéíóúü','aeiouu'\n",
        "def normalizar(s):\n",
        "    trans = str.maketrans(a,b)\n",
        "    return s.translate(trans)\n",
        "House_apart[\"location\"] = House_apart[\"location\"].apply(normalizar)\n",
        "\n",
        "House_apart['location'] = House_apart['location'].str.strip()\n",
        "\n",
        "House_apart.dropna(inplace=True)\n",
        "\n",
        "House_apart['price'] = House_apart['price'].str.replace('.', '', regex=False).str.replace('$', '', regex=False)\n",
        "\n",
        "House_apart['price'] = House_apart['price'].str.strip()\n",
        "\n",
        "House_apart['price'] = House_apart['price'].astype(float)\n",
        "\n",
        "House_apart['price'].mean() # 3159853.220141343\n",
        "House_apart['price'].std() # 15238047.72039516\n",
        "\n",
        "q_low = House_apart['price'].quantile(0.005)\n",
        "q_hi = House_apart['price'].quantile(0.99)\n",
        "\n",
        "House_apart = House_apart[(House_apart['price'] < q_hi) & (House_apart['price'] > q_low)]\n",
        "\n",
        "House_apart.reset_index(inplace=True)\n",
        "print(len(House_apart))\n",
        "for i in range(len(House_apart)):\n",
        "  try:\n",
        "    House_apart.loc[i, \"lat\"]=float(House_apart.loc[i, \"lat\"])\n",
        "    House_apart.loc[i, \"long\"]=float(House_apart.loc[i, \"long\"])\n",
        "\n",
        "  except:\n",
        "    House_apart.drop(i, inplace=True)\n"
      ],
      "metadata": {
        "id": "aBGaEnmvwGzT",
        "colab": {
          "base_uri": "https://localhost:8080/"
        },
        "outputId": "6abfab02-82e4-40d9-f0cf-93d9dc982048"
      },
      "execution_count": 8,
      "outputs": [
        {
          "output_type": "stream",
          "name": "stdout",
          "text": [
            "7270\n"
          ]
        }
      ]
    },
    {
      "cell_type": "code",
      "source": [
        "# Mapa\n",
        "import folium\n",
        "from folium.plugins import HeatMap\n",
        "\n",
        "mapa = folium.Map(location=[6.2442, -75.5812], zoom_start=12)\n",
        "mapa\n",
        "\n",
        "puntos = House_apart[['lat', 'long', 'price']].values.tolist()\n",
        "HeatMap(puntos, radius=10).add_to(mapa)\n",
        "mapa"
      ],
      "metadata": {
        "id": "27SvbmN-w3k0"
      },
      "execution_count": null,
      "outputs": []
    },
    {
      "cell_type": "code",
      "source": [
        "import matplotlib.pyplot as plt\n",
        "import numpy as np\n",
        "import matplotlib.colors as mcolors\n",
        "import matplotlib.ticker as ticker\n",
        "\n",
        "data = np.random.randint(238000.0, 14600000.0, (10, 10))\n",
        "\n",
        "fig, ax = plt.subplots(figsize=(2, 6))\n",
        "\n",
        "colors = ['#06EEEF', '#FFFB15', '#EE2B0A']\n",
        "cmap = mcolors.LinearSegmentedColormap.from_list('custom', colors, N=256)\n",
        "\n",
        "cax = ax.matshow(data, cmap=cmap)\n",
        "\n",
        "ax.axis('off')\n",
        "\n",
        "cbar = fig.colorbar(cax)\n",
        "\n",
        "cbar.formatter = ticker.FuncFormatter(lambda x, pos: f'{int(x):,}')\n",
        "cbar.update_ticks()\n",
        "\n",
        "plt.show()"
      ],
      "metadata": {
        "colab": {
          "base_uri": "https://localhost:8080/",
          "height": 499
        },
        "id": "rBhNiJT--4dp",
        "outputId": "5b7aac89-1ade-4b48-c082-181ee2b1594e"
      },
      "execution_count": 20,
      "outputs": [
        {
          "output_type": "display_data",
          "data": {
            "text/plain": [
              "<Figure size 200x600 with 2 Axes>"
            ],
            "image/png": "[encoded data removed]"
          },
          "metadata": {}
        }
      ]
    },
    {
      "cell_type": "code",
      "source": [
        "House_apart['price'].min()"
      ],
      "metadata": {
        "colab": {
          "base_uri": "https://localhost:8080/"
        },
        "id": "fYIOs7oC-8VX",
        "outputId": "988762c0-5585-479c-9b08-1eb02d28f789"
      },
      "execution_count": 17,
      "outputs": [
        {
          "output_type": "execute_result",
          "data": {
            "text/plain": [
              "238000.0"
            ]
          },
          "metadata": {},
          "execution_count": 17
        }
      ]
    },
    {
      "cell_type": "code",
      "source": [
        "House_apart['price'].max()"
      ],
      "metadata": {
        "colab": {
          "base_uri": "https://localhost:8080/"
        },
        "id": "te8uZA1G_MC_",
        "outputId": "7f2aeeff-3937-4ef3-e24a-1f44f8c66985"
      },
      "execution_count": 18,
      "outputs": [
        {
          "output_type": "execute_result",
          "data": {
            "text/plain": [
              "14600000.0"
            ]
          },
          "metadata": {},
          "execution_count": 18
        }
      ]
    }
  ]
}